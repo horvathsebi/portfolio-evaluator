{
 "cells": [
  {
   "cell_type": "code",
   "execution_count": null,
   "metadata": {},
   "outputs": [],
   "source": [
    "import portfolio_evaluator as op\n",
    "curr_pf = op.portfolio(\"AAPL,3,IVV,2,GOOGL,2,LMT,7,PLTR,2,GUV.F,30\")\n",
    "returns=op.all_returns(curr_pf)\n",
    "\n",
    "all_returns_df = op.all_returns_df(curr_pf,returns)\n",
    "total_p_v = op.calculate_portfolio_value(curr_pf)\n",
    "r_risk = op.get_portfolio_std(curr_pf,5)\n",
    "exp_returns = op.expected_return_on_portfolio(curr_pf,all_returns_df,total_p_v)\n",
    "markov = op.markovitz(op.risk_free_rate(),all_returns_df)\n",
    "op.marko_scplt(markov)\n",
    "print(op.max_sharpe_alloc(markov,10000))"
   ]
  }
 ],
 "metadata": {
  "kernelspec": {
   "display_name": ".venv",
   "language": "python",
   "name": "python3"
  },
  "language_info": {
   "codemirror_mode": {
    "name": "ipython",
    "version": 3
   },
   "file_extension": ".py",
   "mimetype": "text/x-python",
   "name": "python",
   "nbconvert_exporter": "python",
   "pygments_lexer": "ipython3",
   "version": "3.12.0"
  }
 },
 "nbformat": 4,
 "nbformat_minor": 2
}
